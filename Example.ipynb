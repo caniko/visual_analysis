{
 "cells": [
  {
   "cell_type": "code",
   "execution_count": 1,
   "metadata": {},
   "outputs": [
    {
     "name": "stderr",
     "output_type": "stream",
     "text": [
      "C:\\Users\\Can\\Miniconda3\\envs\\expipe\\lib\\site-packages\\elephant\\spade.py:83: UserWarning: fim.so not found in elephant/spade_src folder,you are using the python implementation of fast fca\n",
      "  'you are using the python implementation of fast fca')\n"
     ]
    }
   ],
   "source": [
    "from vian import psycho_plot"
   ]
  },
  {
   "cell_type": "code",
   "execution_count": null,
   "metadata": {},
   "outputs": [],
   "source": [
    "PROJECT_PATH = \"\"\n",
    "ACTION_ID = \"\"\n",
    "\n",
    "psycho_plot(PROJECT_PATH, ACTION_ID,\n",
    "            n_channel=8, rem_channel=\"all\", skip_channels=None,\n",
    "            raster_start=-0.5, raster_stop=1)"
   ]
  }
 ],
 "metadata": {
  "kernelspec": {
   "display_name": "Python 3",
   "language": "python",
   "name": "python3"
  },
  "language_info": {
   "codemirror_mode": {
    "name": "ipython",
    "version": 3
   },
   "file_extension": ".py",
   "mimetype": "text/x-python",
   "name": "python",
   "nbconvert_exporter": "python",
   "pygments_lexer": "ipython3",
   "version": "3.5.6"
  }
 },
 "nbformat": 4,
 "nbformat_minor": 2
}
